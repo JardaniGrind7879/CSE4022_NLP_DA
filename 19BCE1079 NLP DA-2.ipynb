{
 "cells": [
  {
   "cell_type": "markdown",
   "id": "f6da6392",
   "metadata": {},
   "source": [
    "# Natural Language Processing \n",
    "# DA-2\n",
    "# 19BCE1079 Nirav Das"
   ]
  },
  {
   "cell_type": "markdown",
   "id": "f13eaf10",
   "metadata": {},
   "source": [
    "1.Create a text corpus with minimum 200 words (unique contents). Implement the following text processing                                                                                               \n",
    "Word segmentation <br>\n",
    "Sentence segmentation <br>\n",
    "Convert to Lowercase <br>\n",
    "Stop words removal <br>\n",
    "Stemming <br>\n",
    "Lemmatization <br>\n",
    "Part of speech tagger <br>"
   ]
  },
  {
   "cell_type": "code",
   "execution_count": 1,
   "id": "4f35c3b2",
   "metadata": {},
   "outputs": [
    {
     "name": "stderr",
     "output_type": "stream",
     "text": [
      "[nltk_data] Downloading package punkt to\n",
      "[nltk_data]     C:\\Users\\nirda\\AppData\\Roaming\\nltk_data...\n",
      "[nltk_data]   Package punkt is already up-to-date!\n",
      "[nltk_data] Downloading package averaged_perceptron_tagger to\n",
      "[nltk_data]     C:\\Users\\nirda\\AppData\\Roaming\\nltk_data...\n",
      "[nltk_data]   Package averaged_perceptron_tagger is already up-to-\n",
      "[nltk_data]       date!\n",
      "[nltk_data] Downloading package brown to\n",
      "[nltk_data]     C:\\Users\\nirda\\AppData\\Roaming\\nltk_data...\n",
      "[nltk_data]   Package brown is already up-to-date!\n",
      "[nltk_data] Downloading package wordnet to\n",
      "[nltk_data]     C:\\Users\\nirda\\AppData\\Roaming\\nltk_data...\n",
      "[nltk_data]   Package wordnet is already up-to-date!\n",
      "[nltk_data] Downloading package omw-1.4 to\n",
      "[nltk_data]     C:\\Users\\nirda\\AppData\\Roaming\\nltk_data...\n",
      "[nltk_data]   Package omw-1.4 is already up-to-date!\n",
      "[nltk_data] Downloading package stopwords to\n",
      "[nltk_data]     C:\\Users\\nirda\\AppData\\Roaming\\nltk_data...\n",
      "[nltk_data]   Package stopwords is already up-to-date!\n"
     ]
    }
   ],
   "source": [
    "import nltk\n",
    "nltk.download('punkt')\n",
    "nltk.download('averaged_perceptron_tagger')\n",
    "nltk.download('brown')\n",
    "nltk.download('wordnet')\n",
    "nltk.download('omw-1.4')\n",
    "nltk.download('stopwords')\n",
    "import pandas as pd"
   ]
  },
  {
   "cell_type": "code",
   "execution_count": 2,
   "id": "635d3a0b",
   "metadata": {},
   "outputs": [
    {
     "data": {
      "text/plain": [
       "'Counseling is distinguished from other mental health disciplines by both its history and its emphasis. It focuses on development and the prevention of serious mental health problems through education and short term treatments. It emphasises on growth as well as remediation. It focuses on providing therapeutic treatments to clients who experience a wide variety of symptoms. It is also one of the largest specialty areas within psychology.Counseling as a profession is relatively new. It grew out of the guidance movement, in opposition to traditional psychotherapy. In order to understand what counseling is, you must first understand these concepts. Counseling is often performed face to face in confidential sessions between the counselor and client(s). However, counselling can also be undertaken by telephone, in writing and, in these days of the Internet, by email or video conferencing. Counselling can and may take many different formats to bring a person to a better understanding of himself and others. It can therefore be seen that counselling can be of benefit to a person experiencing problems in finding, forming, and maintaining relationships. It is the ability to listen and respond in a way that will help others solve their own problems and attain their potential. It is the art of helping others arrive at the right answer by their own analysis of the situation and the facts. It has to be done skillfully without an attempt to influence the values and beliefs of the client. Counseling involves talking with a person in a way that helps the person solve a problem or helps to create conditions that will cause the person to understand and/or improve his behaviour, character, values or life circumstances. It is a process that enables a person to sort out issues and reach decisions affecting their life. Often counselling is sought out at times of change or crisis, however it need not be so as counselling can also help us at any time of our life. It emphasises on exploration and understanding the problem and stresses the idea of professional relationship and the importance of self determined goals (of course by the client). It should be differentiated from advice giving or directing. It should be noted that counselling is a principled profession. Biswalo (1996) defines counselling as a process of helping an individual to accept and to use information and advice so that he/she can either solve his/her present problem or cope with it successfully. Counselling depends heavily on information. According to British Association for Counseling and Psychotherapy (2002), counseling takes place when a counselor sees a client in a private and confidential setting to explore a difficulty a client is having, distress that the client may be experiencing or perhaps the client’s dissatisfaction with life or loss of a sense or direction and purpose.'"
      ]
     },
     "execution_count": 2,
     "metadata": {},
     "output_type": "execute_result"
    }
   ],
   "source": [
    "# Creating the corpus corpus with 463 words (239 UNIQUE)\n",
    "corpus = \"Counseling is distinguished from other mental health disciplines by both its history and its emphasis. It focuses on development and the prevention of serious mental health problems through education and short term treatments. It emphasises on growth as well as remediation. It focuses on providing therapeutic treatments to clients who experience a wide variety of symptoms. It is also one of the largest specialty areas within psychology.Counseling as a profession is relatively new. It grew out of the guidance movement, in opposition to traditional psychotherapy. In order to understand what counseling is, you must first understand these concepts. Counseling is often performed face to face in confidential sessions between the counselor and client(s). However, counselling can also be undertaken by telephone, in writing and, in these days of the Internet, by email or video conferencing. Counselling can and may take many different formats to bring a person to a better understanding of himself and others. It can therefore be seen that counselling can be of benefit to a person experiencing problems in finding, forming, and maintaining relationships. It is the ability to listen and respond in a way that will help others solve their own problems and attain their potential. It is the art of helping others arrive at the right answer by their own analysis of the situation and the facts. It has to be done skillfully without an attempt to influence the values and beliefs of the client. Counseling involves talking with a person in a way that helps the person solve a problem or helps to create conditions that will cause the person to understand and/or improve his behaviour, character, values or life circumstances. It is a process that enables a person to sort out issues and reach decisions affecting their life. Often counselling is sought out at times of change or crisis, however it need not be so as counselling can also help us at any time of our life. It emphasises on exploration and understanding the problem and stresses the idea of professional relationship and the importance of self determined goals (of course by the client). It should be differentiated from advice giving or directing. It should be noted that counselling is a principled profession. Biswalo (1996) defines counselling as a process of helping an individual to accept and to use information and advice so that he/she can either solve his/her present problem or cope with it successfully. Counselling depends heavily on information. According to British Association for Counseling and Psychotherapy (2002), counseling takes place when a counselor sees a client in a private and confidential setting to explore a difficulty a client is having, distress that the client may be experiencing or perhaps the client’s dissatisfaction with life or loss of a sense or direction and purpose.\"\n",
    "corpus"
   ]
  },
  {
   "cell_type": "code",
   "execution_count": 3,
   "id": "f0b3fdb9",
   "metadata": {},
   "outputs": [
    {
     "name": "stdout",
     "output_type": "stream",
     "text": [
      "['Counseling', 'is', 'distinguished', 'from', 'other', 'mental', 'health', 'disciplines', 'by', 'both', 'its', 'history', 'and', 'its', 'emphasis', '.', 'It', 'focuses', 'on', 'development', 'and', 'the', 'prevention', 'of', 'serious', 'mental', 'health', 'problems', 'through', 'education', 'and', 'short', 'term', 'treatments', '.', 'It', 'emphasises', 'on', 'growth', 'as', 'well', 'as', 'remediation', '.', 'It', 'focuses', 'on', 'providing', 'therapeutic', 'treatments', 'to', 'clients', 'who', 'experience', 'a', 'wide', 'variety', 'of', 'symptoms', '.', 'It', 'is', 'also', 'one', 'of', 'the', 'largest', 'specialty', 'areas', 'within', 'psychology.Counseling', 'as', 'a', 'profession', 'is', 'relatively', 'new', '.', 'It', 'grew', 'out', 'of', 'the', 'guidance', 'movement', ',', 'in', 'opposition', 'to', 'traditional', 'psychotherapy', '.', 'In', 'order', 'to', 'understand', 'what', 'counseling', 'is', ',', 'you', 'must', 'first', 'understand', 'these', 'concepts', '.', 'Counseling', 'is', 'often', 'performed', 'face', 'to', 'face', 'in', 'confidential', 'sessions', 'between', 'the', 'counselor', 'and', 'client', '(', 's', ')', '.', 'However', ',', 'counselling', 'can', 'also', 'be', 'undertaken', 'by', 'telephone', ',', 'in', 'writing', 'and', ',', 'in', 'these', 'days', 'of', 'the', 'Internet', ',', 'by', 'email', 'or', 'video', 'conferencing', '.', 'Counselling', 'can', 'and', 'may', 'take', 'many', 'different', 'formats', 'to', 'bring', 'a', 'person', 'to', 'a', 'better', 'understanding', 'of', 'himself', 'and', 'others', '.', 'It', 'can', 'therefore', 'be', 'seen', 'that', 'counselling', 'can', 'be', 'of', 'benefit', 'to', 'a', 'person', 'experiencing', 'problems', 'in', 'finding', ',', 'forming', ',', 'and', 'maintaining', 'relationships', '.', 'It', 'is', 'the', 'ability', 'to', 'listen', 'and', 'respond', 'in', 'a', 'way', 'that', 'will', 'help', 'others', 'solve', 'their', 'own', 'problems', 'and', 'attain', 'their', 'potential', '.', 'It', 'is', 'the', 'art', 'of', 'helping', 'others', 'arrive', 'at', 'the', 'right', 'answer', 'by', 'their', 'own', 'analysis', 'of', 'the', 'situation', 'and', 'the', 'facts', '.', 'It', 'has', 'to', 'be', 'done', 'skillfully', 'without', 'an', 'attempt', 'to', 'influence', 'the', 'values', 'and', 'beliefs', 'of', 'the', 'client', '.', 'Counseling', 'involves', 'talking', 'with', 'a', 'person', 'in', 'a', 'way', 'that', 'helps', 'the', 'person', 'solve', 'a', 'problem', 'or', 'helps', 'to', 'create', 'conditions', 'that', 'will', 'cause', 'the', 'person', 'to', 'understand', 'and/or', 'improve', 'his', 'behaviour', ',', 'character', ',', 'values', 'or', 'life', 'circumstances', '.', 'It', 'is', 'a', 'process', 'that', 'enables', 'a', 'person', 'to', 'sort', 'out', 'issues', 'and', 'reach', 'decisions', 'affecting', 'their', 'life', '.', 'Often', 'counselling', 'is', 'sought', 'out', 'at', 'times', 'of', 'change', 'or', 'crisis', ',', 'however', 'it', 'need', 'not', 'be', 'so', 'as', 'counselling', 'can', 'also', 'help', 'us', 'at', 'any', 'time', 'of', 'our', 'life', '.', 'It', 'emphasises', 'on', 'exploration', 'and', 'understanding', 'the', 'problem', 'and', 'stresses', 'the', 'idea', 'of', 'professional', 'relationship', 'and', 'the', 'importance', 'of', 'self', 'determined', 'goals', '(', 'of', 'course', 'by', 'the', 'client', ')', '.', 'It', 'should', 'be', 'differentiated', 'from', 'advice', 'giving', 'or', 'directing', '.', 'It', 'should', 'be', 'noted', 'that', 'counselling', 'is', 'a', 'principled', 'profession', '.', 'Biswalo', '(', '1996', ')', 'defines', 'counselling', 'as', 'a', 'process', 'of', 'helping', 'an', 'individual', 'to', 'accept', 'and', 'to', 'use', 'information', 'and', 'advice', 'so', 'that', 'he/she', 'can', 'either', 'solve', 'his/her', 'present', 'problem', 'or', 'cope', 'with', 'it', 'successfully', '.', 'Counselling', 'depends', 'heavily', 'on', 'information', '.', 'According', 'to', 'British', 'Association', 'for', 'Counseling', 'and', 'Psychotherapy', '(', '2002', ')', ',', 'counseling', 'takes', 'place', 'when', 'a', 'counselor', 'sees', 'a', 'client', 'in', 'a', 'private', 'and', 'confidential', 'setting', 'to', 'explore', 'a', 'difficulty', 'a', 'client', 'is', 'having', ',', 'distress', 'that', 'the', 'client', 'may', 'be', 'experiencing', 'or', 'perhaps', 'the', 'client', '’', 's', 'dissatisfaction', 'with', 'life', 'or', 'loss', 'of', 'a', 'sense', 'or', 'direction', 'and', 'purpose', '.']\n"
     ]
    }
   ],
   "source": [
    "# Word Segmentation (Word Tokenization)\n",
    "from nltk.tokenize import word_tokenize\n",
    "wordsSeg = word_tokenize(corpus)\n",
    "print(wordsSeg)"
   ]
  },
  {
   "cell_type": "code",
   "execution_count": 4,
   "id": "4ef2df35",
   "metadata": {},
   "outputs": [
    {
     "data": {
      "text/plain": [
       "['Counseling is distinguished from other mental health disciplines by both its history and its emphasis.',\n",
       " 'It focuses on development and the prevention of serious mental health problems through education and short term treatments.',\n",
       " 'It emphasises on growth as well as remediation.',\n",
       " 'It focuses on providing therapeutic treatments to clients who experience a wide variety of symptoms.',\n",
       " 'It is also one of the largest specialty areas within psychology.Counseling as a profession is relatively new.',\n",
       " 'It grew out of the guidance movement, in opposition to traditional psychotherapy.',\n",
       " 'In order to understand what counseling is, you must first understand these concepts.',\n",
       " 'Counseling is often performed face to face in confidential sessions between the counselor and client(s).',\n",
       " 'However, counselling can also be undertaken by telephone, in writing and, in these days of the Internet, by email or video conferencing.',\n",
       " 'Counselling can and may take many different formats to bring a person to a better understanding of himself and others.',\n",
       " 'It can therefore be seen that counselling can be of benefit to a person experiencing problems in finding, forming, and maintaining relationships.',\n",
       " 'It is the ability to listen and respond in a way that will help others solve their own problems and attain their potential.',\n",
       " 'It is the art of helping others arrive at the right answer by their own analysis of the situation and the facts.',\n",
       " 'It has to be done skillfully without an attempt to influence the values and beliefs of the client.',\n",
       " 'Counseling involves talking with a person in a way that helps the person solve a problem or helps to create conditions that will cause the person to understand and/or improve his behaviour, character, values or life circumstances.',\n",
       " 'It is a process that enables a person to sort out issues and reach decisions affecting their life.',\n",
       " 'Often counselling is sought out at times of change or crisis, however it need not be so as counselling can also help us at any time of our life.',\n",
       " 'It emphasises on exploration and understanding the problem and stresses the idea of professional relationship and the importance of self determined goals (of course by the client).',\n",
       " 'It should be differentiated from advice giving or directing.',\n",
       " 'It should be noted that counselling is a principled profession.',\n",
       " 'Biswalo (1996) defines counselling as a process of helping an individual to accept and to use information and advice so that he/she can either solve his/her present problem or cope with it successfully.',\n",
       " 'Counselling depends heavily on information.',\n",
       " 'According to British Association for Counseling and Psychotherapy (2002), counseling takes place when a counselor sees a client in a private and confidential setting to explore a difficulty a client is having, distress that the client may be experiencing or perhaps the client’s dissatisfaction with life or loss of a sense or direction and purpose.']"
      ]
     },
     "execution_count": 4,
     "metadata": {},
     "output_type": "execute_result"
    }
   ],
   "source": [
    "# Sentence Segmentation where each sentence is seperated by a comma (,).\n",
    "sent_tokenizer = nltk.data.load('tokenizers/punkt/english.pickle')\n",
    "sent_parts = sent_tokenizer.tokenize(corpus)\n",
    "sent_parts"
   ]
  },
  {
   "cell_type": "code",
   "execution_count": 5,
   "id": "6489febd",
   "metadata": {},
   "outputs": [
    {
     "name": "stdout",
     "output_type": "stream",
     "text": [
      "['Counseling', 'is', 'distinguished', 'from', 'other', 'mental', 'health', 'disciplines', 'by', 'both', 'its', 'history', 'and', 'its', 'emphasis.', 'It', 'focuses', 'on', 'development', 'and', 'the', 'prevention', 'of', 'serious', 'mental', 'health', 'problems', 'through', 'education', 'and', 'short', 'term', 'treatments.', 'It', 'emphasises', 'on', 'growth', 'as', 'well', 'as', 'remediation.', 'It', 'focuses', 'on', 'providing', 'therapeutic', 'treatments', 'to', 'clients', 'who', 'experience', 'a', 'wide', 'variety', 'of', 'symptoms.', 'It', 'is', 'also', 'one', 'of', 'the', 'largest', 'specialty', 'areas', 'within', 'psychology.Counseling', 'as', 'a', 'profession', 'is', 'relatively', 'new.', 'It', 'grew', 'out', 'of', 'the', 'guidance', 'movement,', 'in', 'opposition', 'to', 'traditional', 'psychotherapy.', 'In', 'order', 'to', 'understand', 'what', 'counseling', 'is,', 'you', 'must', 'first', 'understand', 'these', 'concepts.', 'Counseling', 'is', 'often', 'performed', 'face', 'to', 'face', 'in', 'confidential', 'sessions', 'between', 'the', 'counselor', 'and', 'client(s).', 'However,', 'counselling', 'can', 'also', 'be', 'undertaken', 'by', 'telephone,', 'in', 'writing', 'and,', 'in', 'these', 'days', 'of', 'the', 'Internet,', 'by', 'email', 'or', 'video', 'conferencing.', 'Counselling', 'can', 'and', 'may', 'take', 'many', 'different', 'formats', 'to', 'bring', 'a', 'person', 'to', 'a', 'better', 'understanding', 'of', 'himself', 'and', 'others.', 'It', 'can', 'therefore', 'be', 'seen', 'that', 'counselling', 'can', 'be', 'of', 'benefit', 'to', 'a', 'person', 'experiencing', 'problems', 'in', 'finding,', 'forming,', 'and', 'maintaining', 'relationships.', 'It', 'is', 'the', 'ability', 'to', 'listen', 'and', 'respond', 'in', 'a', 'way', 'that', 'will', 'help', 'others', 'solve', 'their', 'own', 'problems', 'and', 'attain', 'their', 'potential.', 'It', 'is', 'the', 'art', 'of', 'helping', 'others', 'arrive', 'at', 'the', 'right', 'answer', 'by', 'their', 'own', 'analysis', 'of', 'the', 'situation', 'and', 'the', 'facts.', 'It', 'has', 'to', 'be', 'done', 'skillfully', 'without', 'an', 'attempt', 'to', 'influence', 'the', 'values', 'and', 'beliefs', 'of', 'the', 'client.', 'Counseling', 'involves', 'talking', 'with', 'a', 'person', 'in', 'a', 'way', 'that', 'helps', 'the', 'person', 'solve', 'a', 'problem', 'or', 'helps', 'to', 'create', 'conditions', 'that', 'will', 'cause', 'the', 'person', 'to', 'understand', 'and/or', 'improve', 'his', 'behaviour,', 'character,', 'values', 'or', 'life', 'circumstances.', 'It', 'is', 'a', 'process', 'that', 'enables', 'a', 'person', 'to', 'sort', 'out', 'issues', 'and', 'reach', 'decisions', 'affecting', 'their', 'life.', 'Often', 'counselling', 'is', 'sought', 'out', 'at', 'times', 'of', 'change', 'or', 'crisis,', 'however', 'it', 'need', 'not', 'be', 'so', 'as', 'counselling', 'can', 'also', 'help', 'us', 'at', 'any', 'time', 'of', 'our', 'life.', 'It', 'emphasises', 'on', 'exploration', 'and', 'understanding', 'the', 'problem', 'and', 'stresses', 'the', 'idea', 'of', 'professional', 'relationship', 'and', 'the', 'importance', 'of', 'self', 'determined', 'goals', '(of', 'course', 'by', 'the', 'client).', 'It', 'should', 'be', 'differentiated', 'from', 'advice', 'giving', 'or', 'directing.', 'It', 'should', 'be', 'noted', 'that', 'counselling', 'is', 'a', 'principled', 'profession.', 'Biswalo', '(1996)', 'defines', 'counselling', 'as', 'a', 'process', 'of', 'helping', 'an', 'individual', 'to', 'accept', 'and', 'to', 'use', 'information', 'and', 'advice', 'so', 'that', 'he/she', 'can', 'either', 'solve', 'his/her', 'present', 'problem', 'or', 'cope', 'with', 'it', 'successfully.', 'Counselling', 'depends', 'heavily', 'on', 'information.', 'According', 'to', 'British', 'Association', 'for', 'Counseling', 'and', 'Psychotherapy', '(2002),', 'counseling', 'takes', 'place', 'when', 'a', 'counselor', 'sees', 'a', 'client', 'in', 'a', 'private', 'and', 'confidential', 'setting', 'to', 'explore', 'a', 'difficulty', 'a', 'client', 'is', 'having,', 'distress', 'that', 'the', 'client', 'may', 'be', 'experiencing', 'or', 'perhaps', 'the', 'client’s', 'dissatisfaction', 'with', 'life', 'or', 'loss', 'of', 'a', 'sense', 'or', 'direction', 'and', 'purpose.']\n"
     ]
    }
   ],
   "source": [
    "#Convert to lowercase\n",
    "import re\n",
    "text = re.sub(r\"[^a-zA-Z0-9]\", \" \", corpus.lower())\n",
    "words = corpus.split()\n",
    "print(words)"
   ]
  },
  {
   "cell_type": "code",
   "execution_count": 6,
   "id": "c0fe5d00",
   "metadata": {},
   "outputs": [
    {
     "name": "stdout",
     "output_type": "stream",
     "text": [
      "['Counseling', 'distinguished', 'mental', 'health', 'disciplines', 'history', 'emphasis.', 'It', 'focuses', 'development', 'prevention', 'serious', 'mental', 'health', 'problems', 'education', 'short', 'term', 'treatments.', 'It', 'emphasises', 'growth', 'well', 'remediation.', 'It', 'focuses', 'providing', 'therapeutic', 'treatments', 'clients', 'experience', 'wide', 'variety', 'symptoms.', 'It', 'also', 'one', 'largest', 'specialty', 'areas', 'within', 'psychology.Counseling', 'profession', 'relatively', 'new.', 'It', 'grew', 'guidance', 'movement,', 'opposition', 'traditional', 'psychotherapy.', 'In', 'order', 'understand', 'counseling', 'is,', 'must', 'first', 'understand', 'concepts.', 'Counseling', 'often', 'performed', 'face', 'face', 'confidential', 'sessions', 'counselor', 'client(s).', 'However,', 'counselling', 'also', 'undertaken', 'telephone,', 'writing', 'and,', 'days', 'Internet,', 'email', 'video', 'conferencing.', 'Counselling', 'may', 'take', 'many', 'different', 'formats', 'bring', 'person', 'better', 'understanding', 'others.', 'It', 'therefore', 'seen', 'counselling', 'benefit', 'person', 'experiencing', 'problems', 'finding,', 'forming,', 'maintaining', 'relationships.', 'It', 'ability', 'listen', 'respond', 'way', 'help', 'others', 'solve', 'problems', 'attain', 'potential.', 'It', 'art', 'helping', 'others', 'arrive', 'right', 'answer', 'analysis', 'situation', 'facts.', 'It', 'done', 'skillfully', 'without', 'attempt', 'influence', 'values', 'beliefs', 'client.', 'Counseling', 'involves', 'talking', 'person', 'way', 'helps', 'person', 'solve', 'problem', 'helps', 'create', 'conditions', 'cause', 'person', 'understand', 'and/or', 'improve', 'behaviour,', 'character,', 'values', 'life', 'circumstances.', 'It', 'process', 'enables', 'person', 'sort', 'issues', 'reach', 'decisions', 'affecting', 'life.', 'Often', 'counselling', 'sought', 'times', 'change', 'crisis,', 'however', 'need', 'counselling', 'also', 'help', 'us', 'time', 'life.', 'It', 'emphasises', 'exploration', 'understanding', 'problem', 'stresses', 'idea', 'professional', 'relationship', 'importance', 'self', 'determined', 'goals', '(of', 'course', 'client).', 'It', 'differentiated', 'advice', 'giving', 'directing.', 'It', 'noted', 'counselling', 'principled', 'profession.', 'Biswalo', '(1996)', 'defines', 'counselling', 'process', 'helping', 'individual', 'accept', 'use', 'information', 'advice', 'he/she', 'either', 'solve', 'his/her', 'present', 'problem', 'cope', 'successfully.', 'Counselling', 'depends', 'heavily', 'information.', 'According', 'British', 'Association', 'Counseling', 'Psychotherapy', '(2002),', 'counseling', 'takes', 'place', 'counselor', 'sees', 'client', 'private', 'confidential', 'setting', 'explore', 'difficulty', 'client', 'having,', 'distress', 'client', 'may', 'experiencing', 'perhaps', 'client’s', 'dissatisfaction', 'life', 'loss', 'sense', 'direction', 'purpose.']\n"
     ]
    }
   ],
   "source": [
    "#Stopwords Removal\n",
    "\n",
    "from nltk.corpus import stopwords\n",
    "# Remove stop words\n",
    "words = [w for w in words if w not in stopwords.words(\"english\")]\n",
    "print(words)"
   ]
  },
  {
   "cell_type": "code",
   "execution_count": 7,
   "id": "fff77823",
   "metadata": {},
   "outputs": [
    {
     "name": "stdout",
     "output_type": "stream",
     "text": [
      "['counsel', 'distinguish', 'mental', 'health', 'disciplin', 'histori', 'emphasis.', 'it', 'focus', 'develop', 'prevent', 'seriou', 'mental', 'health', 'problem', 'educ', 'short', 'term', 'treatments.', 'it', 'emphasis', 'growth', 'well', 'remediation.', 'it', 'focus', 'provid', 'therapeut', 'treatment', 'client', 'experi', 'wide', 'varieti', 'symptoms.', 'it', 'also', 'one', 'largest', 'specialti', 'area', 'within', 'psychology.counsel', 'profess', 'rel', 'new.', 'it', 'grew', 'guidanc', 'movement,', 'opposit', 'tradit', 'psychotherapy.', 'in', 'order', 'understand', 'counsel', 'is,', 'must', 'first', 'understand', 'concepts.', 'counsel', 'often', 'perform', 'face', 'face', 'confidenti', 'session', 'counselor', 'client(s).', 'however,', 'counsel', 'also', 'undertaken', 'telephone,', 'write', 'and,', 'day', 'internet,', 'email', 'video', 'conferencing.', 'counsel', 'may', 'take', 'mani', 'differ', 'format', 'bring', 'person', 'better', 'understand', 'others.', 'it', 'therefor', 'seen', 'counsel', 'benefit', 'person', 'experienc', 'problem', 'finding,', 'forming,', 'maintain', 'relationships.', 'it', 'abil', 'listen', 'respond', 'way', 'help', 'other', 'solv', 'problem', 'attain', 'potential.', 'it', 'art', 'help', 'other', 'arriv', 'right', 'answer', 'analysi', 'situat', 'facts.', 'it', 'done', 'skill', 'without', 'attempt', 'influenc', 'valu', 'belief', 'client.', 'counsel', 'involv', 'talk', 'person', 'way', 'help', 'person', 'solv', 'problem', 'help', 'creat', 'condit', 'caus', 'person', 'understand', 'and/or', 'improv', 'behaviour,', 'character,', 'valu', 'life', 'circumstances.', 'it', 'process', 'enabl', 'person', 'sort', 'issu', 'reach', 'decis', 'affect', 'life.', 'often', 'counsel', 'sought', 'time', 'chang', 'crisis,', 'howev', 'need', 'counsel', 'also', 'help', 'us', 'time', 'life.', 'it', 'emphasis', 'explor', 'understand', 'problem', 'stress', 'idea', 'profession', 'relationship', 'import', 'self', 'determin', 'goal', '(of', 'cours', 'client).', 'it', 'differenti', 'advic', 'give', 'directing.', 'it', 'note', 'counsel', 'principl', 'profession.', 'biswalo', '(1996)', 'defin', 'counsel', 'process', 'help', 'individu', 'accept', 'use', 'inform', 'advic', 'he/sh', 'either', 'solv', 'his/her', 'present', 'problem', 'cope', 'successfully.', 'counsel', 'depend', 'heavili', 'information.', 'accord', 'british', 'associ', 'counsel', 'psychotherapi', '(2002),', 'counsel', 'take', 'place', 'counselor', 'see', 'client', 'privat', 'confidenti', 'set', 'explor', 'difficulti', 'client', 'having,', 'distress', 'client', 'may', 'experienc', 'perhap', 'client’', 'dissatisfact', 'life', 'loss', 'sens', 'direct', 'purpose.']\n"
     ]
    }
   ],
   "source": [
    "#Porter Stemmer\n",
    "\n",
    "from nltk.stem.porter import PorterStemmer\n",
    "# Reduce words to their stems\n",
    "stemmed = [PorterStemmer().stem(w) for w in words]\n",
    "print(stemmed)"
   ]
  },
  {
   "cell_type": "code",
   "execution_count": 8,
   "id": "01faf014",
   "metadata": {},
   "outputs": [
    {
     "name": "stdout",
     "output_type": "stream",
     "text": [
      "['Counseling', 'distinguished', 'mental', 'health', 'discipline', 'history', 'emphasis.', 'It', 'focus', 'development', 'prevention', 'serious', 'mental', 'health', 'problem', 'education', 'short', 'term', 'treatments.', 'It', 'emphasis', 'growth', 'well', 'remediation.', 'It', 'focus', 'providing', 'therapeutic', 'treatment', 'client', 'experience', 'wide', 'variety', 'symptoms.', 'It', 'also', 'one', 'largest', 'specialty', 'area', 'within', 'psychology.Counseling', 'profession', 'relatively', 'new.', 'It', 'grew', 'guidance', 'movement,', 'opposition', 'traditional', 'psychotherapy.', 'In', 'order', 'understand', 'counseling', 'is,', 'must', 'first', 'understand', 'concepts.', 'Counseling', 'often', 'performed', 'face', 'face', 'confidential', 'session', 'counselor', 'client(s).', 'However,', 'counselling', 'also', 'undertaken', 'telephone,', 'writing', 'and,', 'day', 'Internet,', 'email', 'video', 'conferencing.', 'Counselling', 'may', 'take', 'many', 'different', 'format', 'bring', 'person', 'better', 'understanding', 'others.', 'It', 'therefore', 'seen', 'counselling', 'benefit', 'person', 'experiencing', 'problem', 'finding,', 'forming,', 'maintaining', 'relationships.', 'It', 'ability', 'listen', 'respond', 'way', 'help', 'others', 'solve', 'problem', 'attain', 'potential.', 'It', 'art', 'helping', 'others', 'arrive', 'right', 'answer', 'analysis', 'situation', 'facts.', 'It', 'done', 'skillfully', 'without', 'attempt', 'influence', 'value', 'belief', 'client.', 'Counseling', 'involves', 'talking', 'person', 'way', 'help', 'person', 'solve', 'problem', 'help', 'create', 'condition', 'cause', 'person', 'understand', 'and/or', 'improve', 'behaviour,', 'character,', 'value', 'life', 'circumstances.', 'It', 'process', 'enables', 'person', 'sort', 'issue', 'reach', 'decision', 'affecting', 'life.', 'Often', 'counselling', 'sought', 'time', 'change', 'crisis,', 'however', 'need', 'counselling', 'also', 'help', 'u', 'time', 'life.', 'It', 'emphasis', 'exploration', 'understanding', 'problem', 'stress', 'idea', 'professional', 'relationship', 'importance', 'self', 'determined', 'goal', '(of', 'course', 'client).', 'It', 'differentiated', 'advice', 'giving', 'directing.', 'It', 'noted', 'counselling', 'principled', 'profession.', 'Biswalo', '(1996)', 'defines', 'counselling', 'process', 'helping', 'individual', 'accept', 'use', 'information', 'advice', 'he/she', 'either', 'solve', 'his/her', 'present', 'problem', 'cope', 'successfully.', 'Counselling', 'depends', 'heavily', 'information.', 'According', 'British', 'Association', 'Counseling', 'Psychotherapy', '(2002),', 'counseling', 'take', 'place', 'counselor', 'see', 'client', 'private', 'confidential', 'setting', 'explore', 'difficulty', 'client', 'having,', 'distress', 'client', 'may', 'experiencing', 'perhaps', 'client’s', 'dissatisfaction', 'life', 'loss', 'sense', 'direction', 'purpose.']\n"
     ]
    }
   ],
   "source": [
    "#Lemmatizing\n",
    "\n",
    "from nltk.stem.wordnet import WordNetLemmatizer\n",
    "# Reduce words to their root form\n",
    "lemmed = [WordNetLemmatizer().lemmatize(w) for w in words]\n",
    "print(lemmed)"
   ]
  },
  {
   "cell_type": "code",
   "execution_count": 11,
   "id": "fa74a161",
   "metadata": {},
   "outputs": [
    {
     "name": "stdout",
     "output_type": "stream",
     "text": [
      "[('Counseling', 'NN'), ('is', 'VBZ'), ('distinguished', 'VBN'), ('from', 'IN'), ('other', 'JJ'), ('mental', 'JJ'), ('health', 'NN'), ('disciplines', 'NNS'), ('by', 'IN'), ('both', 'DT'), ('its', 'PRP$'), ('history', 'NN'), ('and', 'CC'), ('its', 'PRP$'), ('emphasis', 'NN'), ('.', '.'), ('It', 'PRP'), ('focuses', 'VBZ'), ('on', 'IN'), ('development', 'NN'), ('and', 'CC'), ('the', 'DT'), ('prevention', 'NN'), ('of', 'IN'), ('serious', 'JJ'), ('mental', 'JJ'), ('health', 'NN'), ('problems', 'NNS'), ('through', 'IN'), ('education', 'NN'), ('and', 'CC'), ('short', 'JJ'), ('term', 'NN'), ('treatments', 'NNS'), ('.', '.'), ('It', 'PRP'), ('emphasises', 'VBZ'), ('on', 'IN'), ('growth', 'NN'), ('as', 'RB'), ('well', 'RB'), ('as', 'IN'), ('remediation', 'NN'), ('.', '.'), ('It', 'PRP'), ('focuses', 'VBZ'), ('on', 'IN'), ('providing', 'VBG'), ('therapeutic', 'JJ'), ('treatments', 'NNS'), ('to', 'TO'), ('clients', 'NNS'), ('who', 'WP'), ('experience', 'VBP'), ('a', 'DT'), ('wide', 'JJ'), ('variety', 'NN'), ('of', 'IN'), ('symptoms', 'NNS'), ('.', '.'), ('It', 'PRP'), ('is', 'VBZ'), ('also', 'RB'), ('one', 'CD'), ('of', 'IN'), ('the', 'DT'), ('largest', 'JJS'), ('specialty', 'NN'), ('areas', 'NNS'), ('within', 'IN'), ('psychology.Counseling', 'VBG'), ('as', 'IN'), ('a', 'DT'), ('profession', 'NN'), ('is', 'VBZ'), ('relatively', 'RB'), ('new', 'JJ'), ('.', '.'), ('It', 'PRP'), ('grew', 'VBD'), ('out', 'IN'), ('of', 'IN'), ('the', 'DT'), ('guidance', 'NN'), ('movement', 'NN'), (',', ','), ('in', 'IN'), ('opposition', 'NN'), ('to', 'TO'), ('traditional', 'JJ'), ('psychotherapy', 'NN'), ('.', '.'), ('In', 'IN'), ('order', 'NN'), ('to', 'TO'), ('understand', 'VB'), ('what', 'WP'), ('counseling', 'NN'), ('is', 'VBZ'), (',', ','), ('you', 'PRP'), ('must', 'MD'), ('first', 'VB'), ('understand', 'VB'), ('these', 'DT'), ('concepts', 'NNS'), ('.', '.'), ('Counseling', 'NNP'), ('is', 'VBZ'), ('often', 'RB'), ('performed', 'JJ'), ('face', 'NN'), ('to', 'TO'), ('face', 'NN'), ('in', 'IN'), ('confidential', 'JJ'), ('sessions', 'NNS'), ('between', 'IN'), ('the', 'DT'), ('counselor', 'NN'), ('and', 'CC'), ('client', 'NN'), ('(', '('), ('s', 'JJ'), (')', ')'), ('.', '.'), ('However', 'RB'), (',', ','), ('counselling', 'VBG'), ('can', 'MD'), ('also', 'RB'), ('be', 'VB'), ('undertaken', 'VBN'), ('by', 'IN'), ('telephone', 'NN'), (',', ','), ('in', 'IN'), ('writing', 'NN'), ('and', 'CC'), (',', ','), ('in', 'IN'), ('these', 'DT'), ('days', 'NNS'), ('of', 'IN'), ('the', 'DT'), ('Internet', 'NNP'), (',', ','), ('by', 'IN'), ('email', 'NN'), ('or', 'CC'), ('video', 'NN'), ('conferencing', 'NN'), ('.', '.'), ('Counselling', 'VBG'), ('can', 'MD'), ('and', 'CC'), ('may', 'MD'), ('take', 'VB'), ('many', 'JJ'), ('different', 'JJ'), ('formats', 'NNS'), ('to', 'TO'), ('bring', 'VB'), ('a', 'DT'), ('person', 'NN'), ('to', 'TO'), ('a', 'DT'), ('better', 'JJR'), ('understanding', 'NN'), ('of', 'IN'), ('himself', 'PRP'), ('and', 'CC'), ('others', 'NNS'), ('.', '.'), ('It', 'PRP'), ('can', 'MD'), ('therefore', 'RB'), ('be', 'VB'), ('seen', 'VBN'), ('that', 'IN'), ('counselling', 'VBG'), ('can', 'MD'), ('be', 'VB'), ('of', 'IN'), ('benefit', 'NN'), ('to', 'TO'), ('a', 'DT'), ('person', 'NN'), ('experiencing', 'VBG'), ('problems', 'NNS'), ('in', 'IN'), ('finding', 'VBG'), (',', ','), ('forming', 'NN'), (',', ','), ('and', 'CC'), ('maintaining', 'VBG'), ('relationships', 'NNS'), ('.', '.'), ('It', 'PRP'), ('is', 'VBZ'), ('the', 'DT'), ('ability', 'NN'), ('to', 'TO'), ('listen', 'VB'), ('and', 'CC'), ('respond', 'VB'), ('in', 'IN'), ('a', 'DT'), ('way', 'NN'), ('that', 'WDT'), ('will', 'MD'), ('help', 'VB'), ('others', 'NNS'), ('solve', 'VB'), ('their', 'PRP$'), ('own', 'JJ'), ('problems', 'NNS'), ('and', 'CC'), ('attain', 'VB'), ('their', 'PRP$'), ('potential', 'JJ'), ('.', '.'), ('It', 'PRP'), ('is', 'VBZ'), ('the', 'DT'), ('art', 'NN'), ('of', 'IN'), ('helping', 'VBG'), ('others', 'NNS'), ('arrive', 'VBP'), ('at', 'IN'), ('the', 'DT'), ('right', 'JJ'), ('answer', 'NN'), ('by', 'IN'), ('their', 'PRP$'), ('own', 'JJ'), ('analysis', 'NN'), ('of', 'IN'), ('the', 'DT'), ('situation', 'NN'), ('and', 'CC'), ('the', 'DT'), ('facts', 'NNS'), ('.', '.'), ('It', 'PRP'), ('has', 'VBZ'), ('to', 'TO'), ('be', 'VB'), ('done', 'VBN'), ('skillfully', 'RB'), ('without', 'IN'), ('an', 'DT'), ('attempt', 'NN'), ('to', 'TO'), ('influence', 'VB'), ('the', 'DT'), ('values', 'NNS'), ('and', 'CC'), ('beliefs', 'NNS'), ('of', 'IN'), ('the', 'DT'), ('client', 'NN'), ('.', '.'), ('Counseling', 'VBG'), ('involves', 'VBZ'), ('talking', 'VBG'), ('with', 'IN'), ('a', 'DT'), ('person', 'NN'), ('in', 'IN'), ('a', 'DT'), ('way', 'NN'), ('that', 'WDT'), ('helps', 'VBZ'), ('the', 'DT'), ('person', 'NN'), ('solve', 'VBP'), ('a', 'DT'), ('problem', 'NN'), ('or', 'CC'), ('helps', 'VBZ'), ('to', 'TO'), ('create', 'VB'), ('conditions', 'NNS'), ('that', 'WDT'), ('will', 'MD'), ('cause', 'VB'), ('the', 'DT'), ('person', 'NN'), ('to', 'TO'), ('understand', 'VB'), ('and/or', 'RP'), ('improve', 'VB'), ('his', 'PRP$'), ('behaviour', 'NN'), (',', ','), ('character', 'NN'), (',', ','), ('values', 'NNS'), ('or', 'CC'), ('life', 'NN'), ('circumstances', 'NNS'), ('.', '.'), ('It', 'PRP'), ('is', 'VBZ'), ('a', 'DT'), ('process', 'NN'), ('that', 'WDT'), ('enables', 'VBZ'), ('a', 'DT'), ('person', 'NN'), ('to', 'TO'), ('sort', 'VB'), ('out', 'RP'), ('issues', 'NNS'), ('and', 'CC'), ('reach', 'NN'), ('decisions', 'NNS'), ('affecting', 'VBG'), ('their', 'PRP$'), ('life', 'NN'), ('.', '.'), ('Often', 'NNP'), ('counselling', 'NN'), ('is', 'VBZ'), ('sought', 'VBN'), ('out', 'RP'), ('at', 'IN'), ('times', 'NNS'), ('of', 'IN'), ('change', 'NN'), ('or', 'CC'), ('crisis', 'NN'), (',', ','), ('however', 'RB'), ('it', 'PRP'), ('need', 'MD'), ('not', 'RB'), ('be', 'VB'), ('so', 'RB'), ('as', 'IN'), ('counselling', 'NN'), ('can', 'MD'), ('also', 'RB'), ('help', 'VB'), ('us', 'PRP'), ('at', 'IN'), ('any', 'DT'), ('time', 'NN'), ('of', 'IN'), ('our', 'PRP$'), ('life', 'NN'), ('.', '.'), ('It', 'PRP'), ('emphasises', 'VBZ'), ('on', 'IN'), ('exploration', 'NN'), ('and', 'CC'), ('understanding', 'VBG'), ('the', 'DT'), ('problem', 'NN'), ('and', 'CC'), ('stresses', 'VBZ'), ('the', 'DT'), ('idea', 'NN'), ('of', 'IN'), ('professional', 'JJ'), ('relationship', 'NN'), ('and', 'CC'), ('the', 'DT'), ('importance', 'NN'), ('of', 'IN'), ('self', 'NN'), ('determined', 'VBN'), ('goals', 'NNS'), ('(', '('), ('of', 'IN'), ('course', 'NN'), ('by', 'IN'), ('the', 'DT'), ('client', 'NN'), (')', ')'), ('.', '.'), ('It', 'PRP'), ('should', 'MD'), ('be', 'VB'), ('differentiated', 'VBN'), ('from', 'IN'), ('advice', 'NN'), ('giving', 'VBG'), ('or', 'CC'), ('directing', 'VBG'), ('.', '.'), ('It', 'PRP'), ('should', 'MD'), ('be', 'VB'), ('noted', 'VBN'), ('that', 'IN'), ('counselling', 'VBG'), ('is', 'VBZ'), ('a', 'DT'), ('principled', 'JJ'), ('profession', 'NN'), ('.', '.'), ('Biswalo', 'NNP'), ('(', '('), ('1996', 'CD'), (')', ')'), ('defines', 'VBZ'), ('counselling', 'VBG'), ('as', 'IN'), ('a', 'DT'), ('process', 'NN'), ('of', 'IN'), ('helping', 'VBG'), ('an', 'DT'), ('individual', 'NN'), ('to', 'TO'), ('accept', 'VB'), ('and', 'CC'), ('to', 'TO'), ('use', 'VB'), ('information', 'NN'), ('and', 'CC'), ('advice', 'NN'), ('so', 'RB'), ('that', 'IN'), ('he/she', 'NN'), ('can', 'MD'), ('either', 'VB'), ('solve', 'VB'), ('his/her', 'PRP$'), ('present', 'JJ'), ('problem', 'NN'), ('or', 'CC'), ('cope', 'NN'), ('with', 'IN'), ('it', 'PRP'), ('successfully', 'RB'), ('.', '.'), ('Counselling', 'VBG'), ('depends', 'VBZ'), ('heavily', 'RB'), ('on', 'IN'), ('information', 'NN'), ('.', '.'), ('According', 'VBG'), ('to', 'TO'), ('British', 'NNP'), ('Association', 'NNP'), ('for', 'IN'), ('Counseling', 'NNP'), ('and', 'CC'), ('Psychotherapy', 'NNP'), ('(', '('), ('2002', 'CD'), (')', ')'), (',', ','), ('counseling', 'VBG'), ('takes', 'VBZ'), ('place', 'NN'), ('when', 'WRB'), ('a', 'DT'), ('counselor', 'NN'), ('sees', 'VBZ'), ('a', 'DT'), ('client', 'NN'), ('in', 'IN'), ('a', 'DT'), ('private', 'JJ'), ('and', 'CC'), ('confidential', 'JJ'), ('setting', 'NN'), ('to', 'TO'), ('explore', 'VB'), ('a', 'DT'), ('difficulty', 'NN'), ('a', 'DT'), ('client', 'NN'), ('is', 'VBZ'), ('having', 'VBG'), (',', ','), ('distress', 'NN'), ('that', 'IN'), ('the', 'DT'), ('client', 'NN'), ('may', 'MD'), ('be', 'VB'), ('experiencing', 'VBG'), ('or', 'CC'), ('perhaps', 'RB'), ('the', 'DT'), ('client', 'NN'), ('’', 'NNP'), ('s', 'VBZ'), ('dissatisfaction', 'NN'), ('with', 'IN'), ('life', 'NN'), ('or', 'CC'), ('loss', 'NN'), ('of', 'IN'), ('a', 'DT'), ('sense', 'NN'), ('or', 'CC'), ('direction', 'NN'), ('and', 'CC'), ('purpose', 'NN'), ('.', '.')]\n"
     ]
    }
   ],
   "source": [
    "#POS Tagging\n",
    "\n",
    "# removing stop words from wordList.\n",
    "stop_words = set(stopwords.words('english'))\n",
    "\n",
    "\n",
    "# Using a Tagger. Which is part-of-speech\n",
    "# tagger or POS-tagger.\n",
    "wordsList = [w for w in wordsSeg if not w in stop_words]\n",
    "tagged = nltk.pos_tag(wordsSeg)\n",
    "print(tagged)"
   ]
  },
  {
   "cell_type": "code",
   "execution_count": null,
   "id": "a6fe1392",
   "metadata": {},
   "outputs": [],
   "source": []
  }
 ],
 "metadata": {
  "kernelspec": {
   "display_name": "Python 3 (ipykernel)",
   "language": "python",
   "name": "python3"
  },
  "language_info": {
   "codemirror_mode": {
    "name": "ipython",
    "version": 3
   },
   "file_extension": ".py",
   "mimetype": "text/x-python",
   "name": "python",
   "nbconvert_exporter": "python",
   "pygments_lexer": "ipython3",
   "version": "3.10.4"
  }
 },
 "nbformat": 4,
 "nbformat_minor": 5
}
